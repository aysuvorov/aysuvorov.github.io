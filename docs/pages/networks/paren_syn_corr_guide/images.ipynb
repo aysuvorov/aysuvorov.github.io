{
 "cells": [
  {
   "cell_type": "code",
   "execution_count": 14,
   "metadata": {},
   "outputs": [],
   "source": [
    "import numpy as np\n",
    "import networkx as nx\n",
    "import matplotlib.pyplot as plt\n",
    "\n",
    "from scipy.stats import describe, gaussian_kde\n",
    "from sklearn.neighbors import KernelDensity"
   ]
  },
  {
   "cell_type": "code",
   "execution_count": 35,
   "metadata": {},
   "outputs": [
    {
     "name": "stdout",
     "output_type": "stream",
     "text": [
      "{'A': array([1.00000000e+00, 1.98682151e-08]), 'B': array([-0.50000007,  0.86602542]), 'C': array([-0.49999993, -0.86602544])}\n"
     ]
    },
    {
     "data": {
      "image/png": "[encoded data removed]",
      "text/plain": [
       "<Figure size 640x480 with 1 Axes>"
      ]
     },
     "metadata": {},
     "output_type": "display_data"
    }
   ],
   "source": [
    "G = nx.Graph()\n",
    "\n",
    "G.add_edge(\"A\", \"B\", weight=5)\n",
    "G.add_edge(\"A\", \"C\", weight=3)\n",
    "G.add_edge(\"B\", \"C\", weight=0.1)\n",
    "\n",
    "pos = nx.circular_layout(G)\n",
    "print(pos)   \n",
    "\n",
    "edge_labels = dict([((n1, n2), d['weight']) for \n",
    "    n1, n2, d in G.edges(data=True)])\n",
    "\n",
    "degree_dict = dict(G.degree(weight='weight'))\n",
    "\n",
    "plt.figure()\n",
    "plt.box(False)\n",
    "\n",
    "nx.draw_networkx_nodes(G, pos, node_color = 'orange')\n",
    "nx.draw_networkx_labels(G, pos)\n",
    "\n",
    "for edge in G.edges(data='weight'):\n",
    "    nx.draw_networkx_edges(G, pos, edgelist=[edge], width=edge[2],\n",
    "    alpha=0.5, edge_color=\"b\")\n",
    "\n",
    "nx.draw_networkx_edge_labels(G, pos, edge_labels=edge_labels, label_pos=0.5)\n",
    "\n",
    "plt.savefig('./images/1-weighted-graph.png', bbox_inches=\"tight\", \n",
    "    transparent=False, edgecolor = 'white', dpi = 300)\n",
    "plt.show()"
   ]
  },
  {
   "cell_type": "markdown",
   "metadata": {},
   "source": [
    "## KDE 2D"
   ]
  },
  {
   "cell_type": "code",
   "execution_count": null,
   "metadata": {},
   "outputs": [],
   "source": [
    "# # В R.\n",
    "\n",
    "# # Загружаем библиотеки\n",
    "\n",
    "# library(readxl)\n",
    "# library(ggplot2)\n",
    "# library(dplyr)\n",
    "# library(MASS)\n",
    "\n",
    "# # Создаем 2 фичи, x и y. Строим КДЕ2Д, получаем векторы х, у (они являются координатами) \n",
    "# # и матрицу 25х25 (почему именно 25 не знаю). Дальше строим график, получаем картинку.\n",
    "\n",
    "# set.seed(0)\n",
    "# x = rnorm(15, 10.0, 10.0)\n",
    "# y = rnorm(15, 30.0, 10.0)\n",
    "\n",
    "# dens = kde2d(x, y)\n",
    "\n",
    "# image(dens) \n",
    "# contour(dens, add=T)"
   ]
  },
  {
   "cell_type": "code",
   "execution_count": 9,
   "metadata": {},
   "outputs": [
    {
     "data": {
      "text/plain": [
       "DescribeResult(nobs=15, minmax=(-5.3995004, 34.0465339), mean=11.211660093333334, variance=120.39637780547756, skewness=0.453785499124036, kurtosis=-0.6123274026489418)"
      ]
     },
     "execution_count": 9,
     "metadata": {},
     "output_type": "execute_result"
    }
   ],
   "source": [
    "# # В Питоне.\n",
    "\n",
    "# # Создаем 2 фичи, x и y. \n",
    "\n",
    "# x = np.array([22.6295428, 6.7376664, 23.2979926, 22.7242932, 14.1464143, -5.3995004,  0.7143297,  7.0527955,\\\n",
    "#     9.9423283, 34.0465339, 17.6359346,  2.0099075, -1.4765701,  7.1053843,  7.0078488])\n",
    "# y = np.array([25.88489, 32.52223, 21.08079, 34.35683, 17.62462, 27.75732, 33.77396, 31.33336,\\\n",
    "#     38.04190, 29.42893, 35.03608, 40.85769, 23.09046, 17.15401, 30.46726])\n",
    "\n",
    "# # Создаем КДЕ2Д несколько более замудренно. рассчитываем позиции(xx, yy)и матрицу (f).\n",
    "\n",
    "# xmin, xmax = np.min(x), np.max(x)\n",
    "# ymin, ymax = np.min(y), np.max(y)\n",
    "\n",
    "# # Peform the kernel density estimate\n",
    "# xx, yy = np.mgrid[xmin:xmax:25j, ymin:ymax:25j]\n",
    "# positions = np.vstack([xx.ravel(), yy.ravel()])\n",
    "# values = np.vstack([x, y])\n",
    "# kernel = gaussian_kde(values)\n",
    "# f = np.reshape(kernel(positions).T, xx.shape)\n",
    "\n",
    "# # Рисуем эту фигню, получаем сходный результат. Числа чуть играют, но некритично. \n",
    "\n",
    "# fig = plt.figure()\n",
    "# ax = fig.gca()\n",
    "# ax.set_xlim(xmin, xmax)\n",
    "# ax.set_ylim(ymin, ymax)\n",
    "# # Contourf plot\n",
    "# cfset = ax.contourf(xx, yy, f, cmap='Blues')\n",
    "# ## Or kernel density estimate plot instead of the contourf plot\n",
    "# #ax.imshow(np.rot90(f), cmap='Blues', extent=[xmin, xmax, ymin, ymax])\n",
    "# # Contour plot\n",
    "# cset = ax.contour(xx, yy, f, colors='k')\n",
    "# # Label plot\n",
    "# ax.clabel(cset, inline=1, fontsize=10)\n",
    "# ax.set_xlabel('Y1')\n",
    "# ax.set_ylabel('Y0')\n",
    "# plt.show()"
   ]
  }
 ],
 "metadata": {
  "kernelspec": {
   "display_name": "Python 3.10.6 ('mlenv')",
   "language": "python",
   "name": "python3"
  },
  "language_info": {
   "codemirror_mode": {
    "name": "ipython",
    "version": 3
   },
   "file_extension": ".py",
   "mimetype": "text/x-python",
   "name": "python",
   "nbconvert_exporter": "python",
   "pygments_lexer": "ipython3",
   "version": "3.10.6"
  },
  "orig_nbformat": 4,
  "vscode": {
   "interpreter": {
    "hash": "293268385c1394c5d01d703f40e7fb26ac1af8accd1a4e6f5d2e5a85cec1015d"
   }
  }
 },
 "nbformat": 4,
 "nbformat_minor": 2
}
